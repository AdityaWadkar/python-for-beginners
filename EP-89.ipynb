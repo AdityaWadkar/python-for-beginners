{
  "cells": [
    {
      "cell_type": "markdown",
      "metadata": {
        "id": "3TvLVxhMTwrK"
      },
      "source": [
        "# **Bag of Words (BoW)**\n",
        "\n",
        "### BoW is a Technique that converts text into numbers that can be used by a computer program"
      ]
    },
    {
      "cell_type": "code",
      "execution_count": 2,
      "metadata": {
        "id": "SFFCTKxdVXQh"
      },
      "outputs": [],
      "source": [
        "from sklearn.feature_extraction.text import CountVectorizer"
      ]
    },
    {
      "cell_type": "code",
      "execution_count": 3,
      "metadata": {
        "id": "g3Zg1SXnZ_yk"
      },
      "outputs": [],
      "source": [
        "documents = [\n",
        "    \"This is the first document.\",\n",
        "    \"This document is the second document.\",\n",
        "    \"And this is the third one.\",\n",
        "    \"Is this the first document?\",\n",
        "]"
      ]
    },
    {
      "cell_type": "code",
      "execution_count": 4,
      "metadata": {
        "id": "S8JEvH8PaPDU"
      },
      "outputs": [],
      "source": [
        "vectorizer =  CountVectorizer()"
      ]
    },
    {
      "cell_type": "code",
      "execution_count": 6,
      "metadata": {
        "id": "ps0Sy9G_aUM2"
      },
      "outputs": [],
      "source": [
        "x = vectorizer.fit_transform(documents)"
      ]
    },
    {
      "cell_type": "code",
      "execution_count": 7,
      "metadata": {
        "colab": {
          "base_uri": "https://localhost:8080/"
        },
        "id": "bRYnqz7Yagk4",
        "outputId": "e06eceb4-8f72-4d66-ebf4-ae953cf6e4b1"
      },
      "outputs": [
        {
          "data": {
            "text/plain": [
              "array(['and', 'document', 'first', 'is', 'one', 'second', 'the', 'third',\n",
              "       'this'], dtype=object)"
            ]
          },
          "execution_count": 7,
          "metadata": {},
          "output_type": "execute_result"
        }
      ],
      "source": [
        "vectorizer.get_feature_names_out()"
      ]
    },
    {
      "cell_type": "code",
      "execution_count": 11,
      "metadata": {
        "colab": {
          "base_uri": "https://localhost:8080/"
        },
        "id": "lU3h3og0a6k6",
        "outputId": "2ad365e2-5291-4d08-82f8-3956ebcf8d13"
      },
      "outputs": [
        {
          "name": "stdout",
          "output_type": "stream",
          "text": [
            "Document 1 :  [0 1 1 1 0 0 1 0 1]\n",
            "Document 2 :  [0 2 0 1 0 1 1 0 1]\n",
            "Document 3 :  [1 0 0 1 1 0 1 1 1]\n",
            "Document 4 :  [0 1 1 1 0 0 1 0 1]\n"
          ]
        }
      ],
      "source": [
        "for i, docs in enumerate(documents):\n",
        "  print(f\"Document {i+1} : \",x.toarray()[i])"
      ]
    },
    {
      "cell_type": "code",
      "execution_count": null,
      "metadata": {
        "id": "MmNfJHLRbXxy"
      },
      "outputs": [],
      "source": []
    }
  ],
  "metadata": {
    "colab": {
      "provenance": []
    },
    "kernelspec": {
      "display_name": "Python 3",
      "name": "python3"
    },
    "language_info": {
      "name": "python"
    }
  },
  "nbformat": 4,
  "nbformat_minor": 0
}
