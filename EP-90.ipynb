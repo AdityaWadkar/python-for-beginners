{
  "cells": [
    {
      "cell_type": "markdown",
      "metadata": {
        "id": "fCm1-jZ7Wg26"
      },
      "source": [
        "# **Word2Vec**"
      ]
    },
    {
      "cell_type": "code",
      "execution_count": null,
      "metadata": {
        "id": "EyJiicU5cRW5"
      },
      "outputs": [],
      "source": []
    },
    {
      "cell_type": "markdown",
      "metadata": {
        "id": "wBzqspmrlD5a"
      },
      "source": [
        "The cat sat on the mat\n",
        "\n",
        "https://www.linkedin.com/pulse/continuous-bag-words-cbow-model-madhavan-vivekanandan/"
      ]
    },
    {
      "cell_type": "code",
      "execution_count": null,
      "metadata": {
        "id": "pIwOsZiblHu4"
      },
      "outputs": [],
      "source": [
        "from gensim.models import Word2Vec\n",
        "import nltk\n",
        "from nltk.tokenize import word_tokenize"
      ]
    },
    {
      "cell_type": "code",
      "execution_count": null,
      "metadata": {
        "colab": {
          "base_uri": "https://localhost:8080/"
        },
        "id": "QCxVoKYhmDnO",
        "outputId": "c91bf429-b4ac-472d-c5d3-d2a40e756732"
      },
      "outputs": [
        {
          "name": "stderr",
          "output_type": "stream",
          "text": [
            "[nltk_data] Downloading package punkt to /root/nltk_data...\n",
            "[nltk_data]   Package punkt is already up-to-date!\n"
          ]
        },
        {
          "data": {
            "text/plain": [
              "True"
            ]
          },
          "execution_count": 7,
          "metadata": {},
          "output_type": "execute_result"
        }
      ],
      "source": [
        "nltk.download('punkt')"
      ]
    },
    {
      "cell_type": "code",
      "execution_count": null,
      "metadata": {
        "id": "ErGpc1mgmiYL"
      },
      "outputs": [],
      "source": [
        "text_data = [\n",
        "    \"the cat sat on the mat\",\n",
        "    \"the dog slept on the rug\"\n",
        "]"
      ]
    },
    {
      "cell_type": "code",
      "execution_count": null,
      "metadata": {
        "id": "f5HKrtzFnBOq"
      },
      "outputs": [],
      "source": [
        "tokens = []\n",
        "for sent in text_data:\n",
        "  tokens.append(word_tokenize(sent.lower()))"
      ]
    },
    {
      "cell_type": "code",
      "execution_count": null,
      "metadata": {
        "colab": {
          "base_uri": "https://localhost:8080/"
        },
        "id": "40ZYd4lSnG1T",
        "outputId": "0e14de9d-4dd1-4956-db94-53136f1e13b1"
      },
      "outputs": [
        {
          "data": {
            "text/plain": [
              "[['the', 'cat', 'sat', 'on', 'the', 'mat'],\n",
              " ['the', 'dog', 'slept', 'on', 'the', 'rug']]"
            ]
          },
          "execution_count": 12,
          "metadata": {},
          "output_type": "execute_result"
        }
      ],
      "source": [
        "tokens"
      ]
    },
    {
      "cell_type": "code",
      "execution_count": null,
      "metadata": {
        "id": "pqFoY9pMnILM"
      },
      "outputs": [],
      "source": [
        "word2vec_model = Word2Vec(sentences = tokens,vector_size=2,window=5,min_count=1,sg=1)"
      ]
    },
    {
      "cell_type": "code",
      "execution_count": null,
      "metadata": {
        "id": "OLXl1ygxoCE_"
      },
      "outputs": [],
      "source": [
        "words = 'cat'"
      ]
    },
    {
      "cell_type": "code",
      "execution_count": null,
      "metadata": {
        "id": "yduswnz_oamL"
      },
      "outputs": [],
      "source": [
        "vector = word2vec_model.wv[words]"
      ]
    },
    {
      "cell_type": "code",
      "execution_count": null,
      "metadata": {
        "colab": {
          "base_uri": "https://localhost:8080/"
        },
        "id": "ytV594gwog7A",
        "outputId": "b82ee5eb-ebc6-4cf7-f378-7cde306bb328"
      },
      "outputs": [
        {
          "data": {
            "text/plain": [
              "array([-0.24300802, -0.09080088], dtype=float32)"
            ]
          },
          "execution_count": 22,
          "metadata": {},
          "output_type": "execute_result"
        }
      ],
      "source": [
        "vector"
      ]
    },
    {
      "cell_type": "code",
      "execution_count": null,
      "metadata": {
        "id": "j7ZoZ0fAonis"
      },
      "outputs": [],
      "source": []
    }
  ],
  "metadata": {
    "colab": {
      "provenance": []
    },
    "kernelspec": {
      "display_name": "Python 3",
      "name": "python3"
    },
    "language_info": {
      "name": "python"
    }
  },
  "nbformat": 4,
  "nbformat_minor": 0
}
