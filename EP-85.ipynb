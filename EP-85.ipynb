{
  "cells": [
    {
      "cell_type": "markdown",
      "metadata": {
        "id": "FXY-hF7hsL2n"
      },
      "source": [
        "# **Parts of Speech Tagging (POS)**"
      ]
    },
    {
      "cell_type": "code",
      "execution_count": null,
      "metadata": {
        "id": "rqy9F3JMtJYV"
      },
      "outputs": [],
      "source": [
        "import nltk\n",
        "from nltk.tokenize import word_tokenize\n",
        "from nltk.tag import pos_tag"
      ]
    },
    {
      "cell_type": "code",
      "execution_count": null,
      "metadata": {
        "id": "3YEe8pSZtsfm"
      },
      "outputs": [],
      "source": [
        "text = 'Wow, his monkeys really jump so high up'"
      ]
    },
    {
      "cell_type": "code",
      "execution_count": null,
      "metadata": {
        "colab": {
          "base_uri": "https://localhost:8080/"
        },
        "id": "wt1CduT6uMUv",
        "outputId": "0651f8da-e4e7-4904-b781-83c9d1d6a3a8"
      },
      "outputs": [
        {
          "name": "stderr",
          "output_type": "stream",
          "text": [
            "[nltk_data] Downloading package punkt to /root/nltk_data...\n",
            "[nltk_data]   Unzipping tokenizers/punkt.zip.\n"
          ]
        },
        {
          "data": {
            "text/plain": [
              "True"
            ]
          },
          "execution_count": 5,
          "metadata": {},
          "output_type": "execute_result"
        }
      ],
      "source": [
        "nltk.download('punkt')"
      ]
    },
    {
      "cell_type": "code",
      "execution_count": null,
      "metadata": {
        "colab": {
          "base_uri": "https://localhost:8080/"
        },
        "id": "9NRBiQLKt8h9",
        "outputId": "308be8da-3a33-4435-ae6e-f7dd65a22128"
      },
      "outputs": [
        {
          "data": {
            "text/plain": [
              "['Wow', ',', 'his', 'monkeys', 'really', 'jump', 'so', 'high', 'up']"
            ]
          },
          "execution_count": 6,
          "metadata": {},
          "output_type": "execute_result"
        }
      ],
      "source": [
        "tokens = word_tokenize(text)\n",
        "tokens"
      ]
    },
    {
      "cell_type": "code",
      "execution_count": null,
      "metadata": {
        "colab": {
          "base_uri": "https://localhost:8080/"
        },
        "id": "glQBiguBudcB",
        "outputId": "b704473d-947e-4479-a238-ef933c1237f5"
      },
      "outputs": [
        {
          "name": "stderr",
          "output_type": "stream",
          "text": [
            "[nltk_data] Downloading package averaged_perceptron_tagger to\n",
            "[nltk_data]     /root/nltk_data...\n",
            "[nltk_data]   Unzipping taggers/averaged_perceptron_tagger.zip.\n"
          ]
        },
        {
          "data": {
            "text/plain": [
              "True"
            ]
          },
          "execution_count": 8,
          "metadata": {},
          "output_type": "execute_result"
        }
      ],
      "source": [
        "nltk.download('averaged_perceptron_tagger')"
      ]
    },
    {
      "cell_type": "code",
      "execution_count": null,
      "metadata": {
        "colab": {
          "base_uri": "https://localhost:8080/"
        },
        "id": "1Bqo6M4NuIl1",
        "outputId": "a3d0721e-7bf7-4bb4-f835-b37ee48ecc24"
      },
      "outputs": [
        {
          "data": {
            "text/plain": [
              "[('Wow', 'NNP'),\n",
              " (',', ','),\n",
              " ('his', 'PRP$'),\n",
              " ('monkeys', 'NNS'),\n",
              " ('really', 'RB'),\n",
              " ('jump', 'VBP'),\n",
              " ('so', 'RB'),\n",
              " ('high', 'JJ'),\n",
              " ('up', 'RP')]"
            ]
          },
          "execution_count": 9,
          "metadata": {},
          "output_type": "execute_result"
        }
      ],
      "source": [
        "pos = pos_tag(tokens)\n",
        "pos"
      ]
    },
    {
      "cell_type": "code",
      "execution_count": null,
      "metadata": {
        "id": "VDf1wTHLuaZh"
      },
      "outputs": [],
      "source": []
    },
    {
      "cell_type": "markdown",
      "metadata": {
        "id": "qqtppdoju9tK"
      },
      "source": [
        "IMP links :-\n",
        "https://www.nltk.org/book/ch05.html\n",
        "\n",
        "https://www.geeksforgeeks.org/part-speech-tagging-stop-words-using-nltk-python/"
      ]
    }
  ],
  "metadata": {
    "colab": {
      "provenance": []
    },
    "kernelspec": {
      "display_name": "Python 3",
      "name": "python3"
    },
    "language_info": {
      "name": "python"
    }
  },
  "nbformat": 4,
  "nbformat_minor": 0
}
