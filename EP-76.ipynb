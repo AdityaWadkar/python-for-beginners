{
 "cells": [
  {
   "cell_type": "code",
   "execution_count": null,
   "id": "91fc92c2",
   "metadata": {},
   "outputs": [],
   "source": [
    "!pip install requests"
   ]
  },
  {
   "cell_type": "code",
   "execution_count": null,
   "id": "fee76b3a",
   "metadata": {},
   "outputs": [],
   "source": [
    "import requests as r"
   ]
  },
  {
   "cell_type": "code",
   "execution_count": null,
   "id": "5ee070c9",
   "metadata": {},
   "outputs": [],
   "source": [
    "data = r.get(\"https://httpbin.org/get\")"
   ]
  },
  {
   "cell_type": "code",
   "execution_count": null,
   "id": "59802ffd",
   "metadata": {},
   "outputs": [],
   "source": [
    "data.text"
   ]
  },
  {
   "cell_type": "code",
   "execution_count": null,
   "id": "6e479fb9",
   "metadata": {},
   "outputs": [],
   "source": [
    "res_data = data.json()\n",
    "del res_data['origin']\n",
    "res_data"
   ]
  },
  {
   "cell_type": "code",
   "execution_count": null,
   "id": "e8ac980a",
   "metadata": {},
   "outputs": [],
   "source": [
    "payload = {\"name\":\"Aditya\",\"age\":25}"
   ]
  },
  {
   "cell_type": "code",
   "execution_count": null,
   "id": "b29894c9",
   "metadata": {},
   "outputs": [],
   "source": [
    "response = r.post(url = \"https://httpbin.org/post\",data = payload)\n"
   ]
  },
  {
   "cell_type": "code",
   "execution_count": null,
   "id": "bad11b18",
   "metadata": {},
   "outputs": [],
   "source": [
    "response.status_code"
   ]
  },
  {
   "cell_type": "code",
   "execution_count": null,
   "id": "add38ad9",
   "metadata": {},
   "outputs": [],
   "source": [
    "response.text"
   ]
  },
  {
   "cell_type": "code",
   "execution_count": null,
   "id": "0c812a10",
   "metadata": {},
   "outputs": [],
   "source": [
    "res_response = response.json()\n",
    "res_response"
   ]
  },
  {
   "cell_type": "code",
   "execution_count": null,
   "id": "5505f703",
   "metadata": {},
   "outputs": [],
   "source": [
    "data2 = r.get(\"https://en.wikipedia.org/wiki/Python_(programming_language)\")\n",
    "data2.text"
   ]
  },
  {
   "cell_type": "code",
   "execution_count": null,
   "id": "830dee63",
   "metadata": {},
   "outputs": [],
   "source": []
  }
 ],
 "metadata": {
  "kernelspec": {
   "display_name": "Python 3 (ipykernel)",
   "language": "python",
   "name": "python3"
  },
  "language_info": {
   "codemirror_mode": {
    "name": "ipython",
    "version": 3
   },
   "file_extension": ".py",
   "mimetype": "text/x-python",
   "name": "python",
   "nbconvert_exporter": "python",
   "pygments_lexer": "ipython3",
   "version": "3.7.7"
  }
 },
 "nbformat": 4,
 "nbformat_minor": 5
}
