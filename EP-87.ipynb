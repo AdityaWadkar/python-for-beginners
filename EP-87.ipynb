{
  "cells": [
    {
      "cell_type": "markdown",
      "metadata": {
        "id": "7I1YYxqg1Zva"
      },
      "source": [
        "# **SPACY Library**"
      ]
    },
    {
      "cell_type": "code",
      "execution_count": 1,
      "metadata": {
        "id": "ruZyHuRX3bwT"
      },
      "outputs": [],
      "source": [
        "import spacy"
      ]
    },
    {
      "cell_type": "code",
      "execution_count": 2,
      "metadata": {
        "id": "44Mw-XNg-Bfy"
      },
      "outputs": [],
      "source": [
        "nlp = spacy.load(\"en_core_web_sm\")"
      ]
    },
    {
      "cell_type": "code",
      "execution_count": 3,
      "metadata": {
        "id": "F4I2HDuc-gWt"
      },
      "outputs": [],
      "source": [
        "text = \"Apple is looking at buying U.K. startup for $1 billion\""
      ]
    },
    {
      "cell_type": "code",
      "execution_count": 4,
      "metadata": {
        "id": "_O_lSyik-sUb"
      },
      "outputs": [],
      "source": [
        "doc = nlp(text)"
      ]
    },
    {
      "cell_type": "code",
      "execution_count": 6,
      "metadata": {
        "colab": {
          "base_uri": "https://localhost:8080/"
        },
        "id": "QJnkUcxs-4QP",
        "outputId": "6a5f0421-f2fc-430d-def9-e14adb6cba52"
      },
      "outputs": [
        {
          "name": "stdout",
          "output_type": "stream",
          "text": [
            "Apple\n",
            "is\n",
            "looking\n",
            "at\n",
            "buying\n",
            "U.K.\n",
            "startup\n",
            "for\n",
            "$\n",
            "1\n",
            "billion\n"
          ]
        }
      ],
      "source": [
        "for t in doc:\n",
        "  print(t.text)"
      ]
    },
    {
      "cell_type": "code",
      "execution_count": 7,
      "metadata": {
        "colab": {
          "base_uri": "https://localhost:8080/"
        },
        "id": "DI4jTK3u_BFM",
        "outputId": "2156987d-0946-4319-8f49-40af2b4ca811"
      },
      "outputs": [
        {
          "name": "stdout",
          "output_type": "stream",
          "text": [
            "Apple  =  PROPN\n",
            "is  =  AUX\n",
            "looking  =  VERB\n",
            "at  =  ADP\n",
            "buying  =  VERB\n",
            "U.K.  =  PROPN\n",
            "startup  =  NOUN\n",
            "for  =  ADP\n",
            "$  =  SYM\n",
            "1  =  NUM\n",
            "billion  =  NUM\n"
          ]
        }
      ],
      "source": [
        "for t in doc:\n",
        "  print(t.text, \" = \", t.pos_)"
      ]
    },
    {
      "cell_type": "code",
      "execution_count": 11,
      "metadata": {
        "colab": {
          "base_uri": "https://localhost:8080/"
        },
        "id": "_9Vkhxkz_RX2",
        "outputId": "99c19963-5b3b-4aaa-b697-338952e391e0"
      },
      "outputs": [
        {
          "name": "stdout",
          "output_type": "stream",
          "text": [
            "Apple  =  ORG\n",
            "U.K.  =  GPE\n",
            "$1 billion  =  MONEY\n"
          ]
        }
      ],
      "source": [
        "for t in doc.ents:\n",
        "  print(t.text, \" = \",t.label_)"
      ]
    },
    {
      "cell_type": "code",
      "execution_count": null,
      "metadata": {
        "id": "NfWSSJEh_d-6"
      },
      "outputs": [],
      "source": []
    },
    {
      "cell_type": "markdown",
      "metadata": {
        "id": "W1whA1xVASyb"
      },
      "source": [
        "**Tokenization**: Splitting text into individual words or tokens.\n",
        "\n",
        "**Part-of-Speech (POS) Tagging:** Assigning grammatical categories (e.g., noun, verb, adjective) to each word in a text.\n",
        "\n",
        "**Named Entity Recognition (NER):** Identifying and classifying named entities such as persons, organizations, locations, dates, and more.\n",
        "Dependency Parsing: Analyzing the syntactic structure of sentences to determine the relationships between words.\n",
        "\n",
        "**Sentence Segmentation:** Splitting text into individual sentences.\n",
        "Word Embeddings: Generating dense vector representations of words in a high-dimensional space.\n",
        "\n",
        "**Text Classification:** Assigning predefined categories or labels to text documents based on their content.\n",
        "\n",
        "**Entity Linking:** Linking named entities in text to entries in a knowledge base or database.\n",
        "\n",
        "**Text Similarity:** Computing similarity between text documents or individual sentences.\n",
        "\n",
        "**Rule-based Matching:** Identifying sequences of tokens based on user-defined patterns or rules.\n",
        "\n",
        "**Custom Pipeline Components:** Extending spaCy with custom functions or components to perform specific tasks.\n",
        "\n",
        "**Named Entity Recognition (NER) Training:** Training custom NER models on annotated data for domain-specific entities.\n",
        "\n",
        "**Visualization:** Visualizing syntactic parse trees, dependency graphs, or entity recognition results."
      ]
    },
    {
      "cell_type": "code",
      "execution_count": null,
      "metadata": {
        "id": "-T0WSbmqAmKE"
      },
      "outputs": [],
      "source": []
    }
  ],
  "metadata": {
    "colab": {
      "provenance": []
    },
    "kernelspec": {
      "display_name": "Python 3",
      "name": "python3"
    },
    "language_info": {
      "name": "python"
    }
  },
  "nbformat": 4,
  "nbformat_minor": 0
}
